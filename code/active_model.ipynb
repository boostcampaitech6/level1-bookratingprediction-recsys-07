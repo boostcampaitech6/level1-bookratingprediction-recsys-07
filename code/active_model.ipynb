{
 "cells": [
  {
   "cell_type": "code",
   "execution_count": 53,
   "metadata": {},
   "outputs": [
    {
     "name": "stdout",
     "output_type": "stream",
     "text": [
      "--------------- DeepCoNN Load Data ---------------\n",
      "[nltk_data] Downloading package punkt to\n",
      "[nltk_data]     /data/ephemeral/home/nltk_data...\n",
      "[nltk_data]   Package punkt is already up-to-date!\n",
      "Check Vectorizer\n",
      "Vector Load\n",
      "Check Vectorizer\n",
      "Vector Load\n",
      "현재 하이퍼파라미터 조합: learning_rate=0.01, embed_dim=16, latent_dim=5, kernel_size=3, word_dim=768, --out_dim 32, --conv_1d_out_dim 50 --mlp_dims (16, 16)\n",
      "--------------- DeepCoNN Train/Valid Split ---------------\n",
      "--------------- INIT DeepCoNN ---------------\n",
      "--------------- DeepCoNN TRAINING ---------------\n",
      "  0%|                                                    | 0/10 [00:00<?, ?it/s]Epoch: 1, Train_loss: 11.323, valid_loss: 2.283\n",
      "lr:  0.0095\n",
      " 10%|████▍                                       | 1/10 [00:17<02:39, 17.74s/it]Epoch: 2, Train_loss: 2.142, valid_loss: 2.247\n",
      "lr:  0.009025\n",
      " 20%|████████▊                                   | 2/10 [00:33<02:12, 16.61s/it]Epoch: 3, Train_loss: 1.769, valid_loss: 2.290\n",
      "lr:  0.00857375\n",
      " 30%|█████████████▏                              | 3/10 [00:49<01:52, 16.08s/it]Epoch: 4, Train_loss: 1.522, valid_loss: 2.328\n",
      "lr:  0.0081450625\n",
      " 40%|█████████████████▌                          | 4/10 [01:04<01:34, 15.72s/it]Epoch: 5, Train_loss: 1.352, valid_loss: 2.356\n",
      "lr:  0.007737809374999998\n",
      " 50%|██████████████████████                      | 5/10 [01:19<01:18, 15.60s/it]^C\n",
      " 50%|██████████████████████                      | 5/10 [01:22<01:22, 16.49s/it]\n",
      "Traceback (most recent call last):\n",
      "  File \"/data/ephemeral/home/level1-bookratingprediction-recsys-07/code/main.py\", line 170, in <module>\n",
      "    main(args)\n",
      "  File \"/data/ephemeral/home/level1-bookratingprediction-recsys-07/code/main.py\", line 88, in main\n",
      "    model = train(args, model, data, logger, setting)\n",
      "  File \"/data/ephemeral/home/level1-bookratingprediction-recsys-07/code/src/train/trainer.py\", line 45, in train\n",
      "    for idx, data in enumerate(dataloader['train_dataloader']):\n",
      "  File \"/opt/conda/lib/python3.10/site-packages/torch/utils/data/dataloader.py\", line 630, in __next__\n",
      "    data = self._next_data()\n",
      "  File \"/opt/conda/lib/python3.10/site-packages/torch/utils/data/dataloader.py\", line 674, in _next_data\n",
      "    data = self._dataset_fetcher.fetch(index)  # may raise StopIteration\n",
      "KeyboardInterrupt\n"
     ]
    }
   ],
   "source": [
    "!python main.py --model DeepCoNN --lr 0.01 --deepconn_embed_dim 16 --deepconn_latent_dim 5 --kernel_size 3 --out_dim 32 --test_size 0.01 --epoch 10"
   ]
  },
  {
   "cell_type": "code",
   "execution_count": 39,
   "metadata": {},
   "outputs": [
    {
     "name": "stdout",
     "output_type": "stream",
     "text": [
      "진행 상황: 1/32 (3.12%)\n",
      "진행 상황: 2/32 (6.25%)\n",
      "진행 상황: 3/32 (9.38%)\n",
      "진행 상황: 4/32 (12.50%)\n",
      "진행 상황: 5/32 (15.62%)\n",
      "진행 상황: 6/32 (18.75%)\n",
      "진행 상황: 7/32 (21.88%)\n",
      "진행 상황: 8/32 (25.00%)\n",
      "진행 상황: 9/32 (28.12%)\n",
      "진행 상황: 10/32 (31.25%)\n",
      "진행 상황: 11/32 (34.38%)\n",
      "진행 상황: 12/32 (37.50%)\n",
      "진행 상황: 13/32 (40.62%)\n",
      "진행 상황: 14/32 (43.75%)\n",
      "진행 상황: 15/32 (46.88%)\n",
      "진행 상황: 16/32 (50.00%)\n",
      "진행 상황: 17/32 (53.12%)\n",
      "진행 상황: 18/32 (56.25%)\n",
      "진행 상황: 19/32 (59.38%)\n",
      "진행 상황: 20/32 (62.50%)\n",
      "진행 상황: 21/32 (65.62%)\n",
      "진행 상황: 22/32 (68.75%)\n",
      "진행 상황: 23/32 (71.88%)\n",
      "진행 상황: 24/32 (75.00%)\n",
      "진행 상황: 25/32 (78.12%)\n",
      "진행 상황: 26/32 (81.25%)\n",
      "진행 상황: 27/32 (84.38%)\n",
      "진행 상황: 28/32 (87.50%)\n",
      "진행 상황: 29/32 (90.62%)\n",
      "진행 상황: 30/32 (93.75%)\n",
      "진행 상황: 31/32 (96.88%)\n",
      "진행 상황: 32/32 (100.00%)\n"
     ]
    }
   ],
   "source": [
    "import itertools\n",
    "import subprocess\n",
    "\n",
    "# 하이퍼파라미터 그리드 정의\n",
    "learning_rates = [0.001, 0.01]\n",
    "deepconn_embed_dims = [16]\n",
    "deepconn_latent_dims = [5, 10]\n",
    "kernel_sizes = [3]\n",
    "word_dims = [768]\n",
    "out_dims = [16, 32]  # 예시 값\n",
    "conv_1d_out_dims = [50, 100]  # 예시 값\n",
    "\n",
    "epochs = 4\n",
    "\n",
    "# 모든 조합의 경우의 수 계산\n",
    "total_combinations = (len(learning_rates) * len(deepconn_embed_dims) * len(deepconn_latent_dims) * \n",
    "                      len(kernel_sizes) * len(word_dims) * len(out_dims) * len(conv_1d_out_dims))\n",
    "\n",
    "# 진행도 출력을 위한 카운터 초기화\n",
    "current_combination = 0\n",
    "\n",
    "# 결과를 저장할 파일 열기\n",
    "with open('hyperparameter_tuning_results.txt', 'w') as file:\n",
    "    # 모든 조합에 대해 반복\n",
    "    for lr, embed_dim, latent_dim, kernel_size, word_dim, out_dim, conv_1d_out_dim in itertools.product(\n",
    "            learning_rates, deepconn_embed_dims, deepconn_latent_dims, \n",
    "            kernel_sizes, word_dims, out_dims, conv_1d_out_dims):\n",
    "        current_combination += 1\n",
    "        print(f\"진행 상황: {current_combination}/{total_combinations} ({(current_combination/total_combinations)*100:.2f}%)\")\n",
    "\n",
    "        # 명령줄 인수를 생성\n",
    "        args = (f'python main.py --model DeepCoNN --lr {lr} '\n",
    "                f'--deepconn_embed_dim {embed_dim} '\n",
    "                f'--deepconn_latent_dim {latent_dim} '\n",
    "                f'--kernel_size {kernel_size} '\n",
    "                f'--word_dim {word_dim} '\n",
    "                f'--out_dim {out_dim} '\n",
    "                f'--conv_1d_out_dim {conv_1d_out_dim} '\n",
    "                f'--epoch {epochs}')\n",
    "\n",
    "        # subprocess를 사용하여 main.py 실행 및 결과 파일에 기록\n",
    "        subprocess.run(args, shell=True, stdout=file, stderr=subprocess.STDOUT)"
   ]
  }
 ],
 "metadata": {
  "kernelspec": {
   "display_name": "Python 3",
   "language": "python",
   "name": "python3"
  },
  "language_info": {
   "codemirror_mode": {
    "name": "ipython",
    "version": 3
   },
   "file_extension": ".py",
   "mimetype": "text/x-python",
   "name": "python",
   "nbconvert_exporter": "python",
   "pygments_lexer": "ipython3",
   "version": "3.10.13"
  }
 },
 "nbformat": 4,
 "nbformat_minor": 2
}
